{
  "nbformat": 4,
  "nbformat_minor": 0,
  "metadata": {
    "colab": {
      "provenance": [],
      "authorship_tag": "ABX9TyNp/kNoTbyc3GpSQjxuylcz",
      "include_colab_link": true
    },
    "kernelspec": {
      "name": "python3",
      "display_name": "Python 3"
    },
    "language_info": {
      "name": "python"
    }
  },
  "cells": [
    {
      "cell_type": "markdown",
      "metadata": {
        "id": "view-in-github",
        "colab_type": "text"
      },
      "source": [
        "<a href=\"https://colab.research.google.com/github/Dhidhito/Dhidhito/blob/main/MOMENTO_2.ipynb\" target=\"_parent\"><img src=\"https://colab.research.google.com/assets/colab-badge.svg\" alt=\"Open In Colab\"/></a>"
      ]
    },
    {
      "cell_type": "markdown",
      "source": [
        "02 de Novembro de 2024 - 5 anos após aposentado inicio meu primeiro input no Google Colab. Estudos em Função da Pós Graduação em Business Intelligence & Analytics - USP 2024.\n"
      ],
      "metadata": {
        "id": "hnq8Wh44ORF1"
      }
    },
    {
      "cell_type": "markdown",
      "source": [
        "**negrito**"
      ],
      "metadata": {
        "id": "kHYfkcipXFIj"
      }
    },
    {
      "cell_type": "code",
      "source": [
        "\n",
        "mensagem = \"Bem-vindo ao curso de Python!\"  # Aqui, estamos armazenando uma mensagem de boas-vindas.\n",
        "numero = 7  # Neste caso, estamos armazenando o número 7.\n",
        "preco = 19.99  # Aqui, estamos armazenando o preço de um item, que é 19.99.\n",
        "desconto = preco - preco * 0.10  # Estamos calculando um desconto de 10% no preço.\n",
        "desconto\n"
      ],
      "metadata": {
        "colab": {
          "base_uri": "https://localhost:8080/"
        },
        "id": "xtytKdP4X7jl",
        "outputId": "491b416e-2898-4384-8407-6c1338a0c6d6"
      },
      "execution_count": null,
      "outputs": [
        {
          "output_type": "execute_result",
          "data": {
            "text/plain": [
              "17.991"
            ]
          },
          "metadata": {},
          "execution_count": 1
        }
      ]
    },
    {
      "cell_type": "code",
      "source": [
        "from datetime import datetime\n",
        "\n",
        "def calcular_idade(data_nascimento_str):\n",
        "    # Converte a data de nascimento do formato string para datetime\n",
        "    data_nascimento = datetime.strptime(data_nascimento_str, \"%d/%m/%Y\")\n",
        "    # Obtém a data atual\n",
        "    data_atual = datetime.now()\n",
        "    # Calcula a idade em anos\n",
        "    idade = data_atual.year - data_nascimento.year\n",
        "\n",
        "    # Ajusta a idade se o aniversário ainda não ocorreu neste ano\n",
        "    if (data_atual.month, data_atual.day) < (data_nascimento.month, data_nascimento.day):\n",
        "        idade -= 1\n",
        "\n",
        "    return idade\n",
        "\n",
        "# Exemplo de uso\n",
        "data_nascimento = \"09/09/1968\"\n",
        "idade = calcular_idade(data_nascimento)\n",
        "print(f\"A idade é: {idade} anos\")\n"
      ],
      "metadata": {
        "colab": {
          "base_uri": "https://localhost:8080/"
        },
        "id": "hqdW0iGchF07",
        "outputId": "7934486e-7e9f-498e-b785-282b70654727"
      },
      "execution_count": null,
      "outputs": [
        {
          "output_type": "stream",
          "name": "stdout",
          "text": [
            "A idade é: 56 anos\n"
          ]
        }
      ]
    },
    {
      "cell_type": "code",
      "source": [
        "from datetime import datetime\n",
        "\n",
        "def calcular_idade(data_nascimento_str):\n",
        "    data_nascimento = datetime.strptime(data_nascimento_str, \"%d/%m/%Y\")\n",
        "    data_atual = datetime.now()\n",
        "    idade = data_atual.year - data_nascimento.year\n",
        "    if (data_atual.month, data_atual.day) < (data_nascimento.month, data_nascimento.day):\n",
        "        idade -= 1\n",
        "\n",
        "    return idade\n",
        "\n",
        "# Exemplo de uso\n",
        "data_nascimento = \"09/09/1968\"\n",
        "idade = calcular_idade(data_nascimento)\n",
        "print(f\"A idade é: {idade} anos\")\n",
        "\n",
        "#Trabalhando variáveis\n",
        "gasto_do_cliente= 300\n",
        "#Gasto acima de R$ 500 => Alto ticket\n",
        "if gasto_do_cliente > 500:\n",
        "  print(\"Alto ticket\")\n",
        "else:\n",
        "    print(\"Baixo ticket\")\n",
        "\n"
      ],
      "metadata": {
        "colab": {
          "base_uri": "https://localhost:8080/"
        },
        "id": "pG5_-IKHg_38",
        "outputId": "b4baa763-b6d7-488f-d7f1-2ca7db3667fd"
      },
      "execution_count": null,
      "outputs": [
        {
          "output_type": "stream",
          "name": "stdout",
          "text": [
            "A idade é: 56 anos\n",
            "Baixo ticket\n"
          ]
        }
      ]
    },
    {
      "cell_type": "code",
      "source": [
        "def avaliar_gasto(gasto):\n",
        "    if gasto >= 500:\n",
        "        print (\"Alto ticket\")\n",
        "    else:\n",
        "        print (\"Baixo ticket\")\n",
        "gasto_de_Maria = 500\n",
        "gasto_de_José = 500\n",
        "gasto_de_João = 800\n",
        "gasto_de_Daniel = 300\n",
        "avaliacao_Maria = avaliar_gasto(gasto_de_Maria)\n",
        "avaliacao_José = avaliar_gasto(gasto_de_José)\n",
        "avaliacao_João = avaliar_gasto(gasto_de_João)\n",
        "avaliacao_Daniel = avaliar_gasto(gasto_de_Daniel)"
      ],
      "metadata": {
        "colab": {
          "base_uri": "https://localhost:8080/"
        },
        "id": "HJUOEVXtP4He",
        "outputId": "1a902d28-3918-4407-fd31-88b6c16b6d75"
      },
      "execution_count": null,
      "outputs": [
        {
          "output_type": "stream",
          "name": "stdout",
          "text": [
            "Alto ticket\n",
            "Alto ticket\n",
            "Alto ticket\n",
            "Baixo ticket\n"
          ]
        }
      ]
    },
    {
      "cell_type": "code",
      "source": [
        "def soma(a, b, c):\n",
        "  total = (a + b * c)\n",
        "resultado = soma(2, 3, 8)\n",
        "  print(resultado) # Output: 13\n",
        "  print(total)"
      ],
      "metadata": {
        "id": "IQWo4jq9UohR"
      },
      "execution_count": null,
      "outputs": []
    },
    {
      "cell_type": "code",
      "source": [],
      "metadata": {
        "id": "pfDyGffBHUAO"
      },
      "execution_count": null,
      "outputs": []
    },
    {
      "cell_type": "code",
      "source": [
        "def calcular_media(lista_numeros):\n",
        "    total = sum(lista_numeros)\n",
        "    quantidade = len(lista_numeros)\n",
        "    media = total / quantidade\n",
        "    return media\n",
        "\n",
        "numeros = [2, 4, 6, 8, 10]\n",
        "resultado = calcular_media(numeros)\n",
        "print(resultado) # Output: 6.0"
      ],
      "metadata": {
        "id": "nLYAenLDHZhy",
        "outputId": "43f577db-4adb-47bf-dddd-f92c2f4e9ece",
        "colab": {
          "base_uri": "https://localhost:8080/"
        }
      },
      "execution_count": null,
      "outputs": [
        {
          "output_type": "stream",
          "name": "stdout",
          "text": [
            "6.0\n"
          ]
        }
      ]
    }
  ]
}